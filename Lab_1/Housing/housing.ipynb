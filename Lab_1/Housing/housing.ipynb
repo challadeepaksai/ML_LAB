{
 "cells": [
  {
   "cell_type": "code",
   "execution_count": 73,
   "id": "5377d509",
   "metadata": {},
   "outputs": [],
   "source": [
    " #Importing Module\n",
    "import pandas as pd\n",
    "import matplotlib.pyplot as plt\n",
    "import seaborn as sns\n",
    "import numpy as np"
   ]
  },
  {
   "cell_type": "code",
   "execution_count": 74,
   "id": "e9659419",
   "metadata": {},
   "outputs": [
    {
     "data": {
      "text/html": [
       "<div>\n",
       "<style scoped>\n",
       "    .dataframe tbody tr th:only-of-type {\n",
       "        vertical-align: middle;\n",
       "    }\n",
       "\n",
       "    .dataframe tbody tr th {\n",
       "        vertical-align: top;\n",
       "    }\n",
       "\n",
       "    .dataframe thead th {\n",
       "        text-align: right;\n",
       "    }\n",
       "</style>\n",
       "<table border=\"1\" class=\"dataframe\">\n",
       "  <thead>\n",
       "    <tr style=\"text-align: right;\">\n",
       "      <th></th>\n",
       "      <th>price</th>\n",
       "      <th>area</th>\n",
       "      <th>bedrooms</th>\n",
       "      <th>bathrooms</th>\n",
       "      <th>stories</th>\n",
       "      <th>mainroad</th>\n",
       "      <th>guestroom</th>\n",
       "      <th>basement</th>\n",
       "      <th>hotwaterheating</th>\n",
       "      <th>airconditioning</th>\n",
       "      <th>parking</th>\n",
       "      <th>prefarea</th>\n",
       "      <th>furnishingstatus</th>\n",
       "    </tr>\n",
       "  </thead>\n",
       "  <tbody>\n",
       "    <tr>\n",
       "      <th>540</th>\n",
       "      <td>1820000</td>\n",
       "      <td>3000</td>\n",
       "      <td>2</td>\n",
       "      <td>1</td>\n",
       "      <td>1</td>\n",
       "      <td>yes</td>\n",
       "      <td>no</td>\n",
       "      <td>yes</td>\n",
       "      <td>no</td>\n",
       "      <td>no</td>\n",
       "      <td>2</td>\n",
       "      <td>no</td>\n",
       "      <td>unfurnished</td>\n",
       "    </tr>\n",
       "    <tr>\n",
       "      <th>541</th>\n",
       "      <td>1767150</td>\n",
       "      <td>2400</td>\n",
       "      <td>3</td>\n",
       "      <td>1</td>\n",
       "      <td>1</td>\n",
       "      <td>no</td>\n",
       "      <td>no</td>\n",
       "      <td>no</td>\n",
       "      <td>no</td>\n",
       "      <td>no</td>\n",
       "      <td>0</td>\n",
       "      <td>no</td>\n",
       "      <td>semi-furnished</td>\n",
       "    </tr>\n",
       "    <tr>\n",
       "      <th>542</th>\n",
       "      <td>1750000</td>\n",
       "      <td>3620</td>\n",
       "      <td>2</td>\n",
       "      <td>1</td>\n",
       "      <td>1</td>\n",
       "      <td>yes</td>\n",
       "      <td>no</td>\n",
       "      <td>no</td>\n",
       "      <td>no</td>\n",
       "      <td>no</td>\n",
       "      <td>0</td>\n",
       "      <td>no</td>\n",
       "      <td>unfurnished</td>\n",
       "    </tr>\n",
       "    <tr>\n",
       "      <th>543</th>\n",
       "      <td>1750000</td>\n",
       "      <td>2910</td>\n",
       "      <td>3</td>\n",
       "      <td>1</td>\n",
       "      <td>1</td>\n",
       "      <td>no</td>\n",
       "      <td>no</td>\n",
       "      <td>no</td>\n",
       "      <td>no</td>\n",
       "      <td>no</td>\n",
       "      <td>0</td>\n",
       "      <td>no</td>\n",
       "      <td>furnished</td>\n",
       "    </tr>\n",
       "    <tr>\n",
       "      <th>544</th>\n",
       "      <td>1750000</td>\n",
       "      <td>3850</td>\n",
       "      <td>3</td>\n",
       "      <td>1</td>\n",
       "      <td>2</td>\n",
       "      <td>yes</td>\n",
       "      <td>no</td>\n",
       "      <td>no</td>\n",
       "      <td>no</td>\n",
       "      <td>no</td>\n",
       "      <td>0</td>\n",
       "      <td>no</td>\n",
       "      <td>unfurnished</td>\n",
       "    </tr>\n",
       "  </tbody>\n",
       "</table>\n",
       "</div>"
      ],
      "text/plain": [
       "       price  area  bedrooms  bathrooms  stories mainroad guestroom basement  \\\n",
       "540  1820000  3000         2          1        1      yes        no      yes   \n",
       "541  1767150  2400         3          1        1       no        no       no   \n",
       "542  1750000  3620         2          1        1      yes        no       no   \n",
       "543  1750000  2910         3          1        1       no        no       no   \n",
       "544  1750000  3850         3          1        2      yes        no       no   \n",
       "\n",
       "    hotwaterheating airconditioning  parking prefarea furnishingstatus  \n",
       "540              no              no        2       no      unfurnished  \n",
       "541              no              no        0       no   semi-furnished  \n",
       "542              no              no        0       no      unfurnished  \n",
       "543              no              no        0       no        furnished  \n",
       "544              no              no        0       no      unfurnished  "
      ]
     },
     "execution_count": 74,
     "metadata": {},
     "output_type": "execute_result"
    }
   ],
   "source": [
    "#Read Data\n",
    "df=pd.read_csv(\"Housing.csv\")\n",
    "df.head()\n",
    "df.tail()"
   ]
  },
  {
   "cell_type": "code",
   "execution_count": 75,
   "id": "f70f0144",
   "metadata": {},
   "outputs": [],
   "source": [
    "#Encode Categorical and Binary Features\n",
    "df.loc[df['mainroad']=='yes','mainroad']=1\n",
    "df.loc[df['mainroad']=='no','mainroad']=0\n",
    "df.loc[df['guestroom']=='yes','guestroom']=1\n",
    "df.loc[df['guestroom']=='no','guestroom']=0\n",
    "df.loc[df['basement']=='yes','basement']=1\n",
    "df.loc[df['basement']=='no','basement']=0\n",
    "df.loc[df['hotwaterheating']=='yes','hotwaterheating']=1\n",
    "df.loc[df['hotwaterheating']=='no','hotwaterheating']=0\n",
    "df.loc[df['airconditioning']=='yes','airconditioning']=1\n",
    "df.loc[df['airconditioning']=='no','airconditioning']=0\n",
    "df.loc[df['prefarea']=='yes','prefarea']=1\n",
    "df.loc[df['prefarea']=='no','prefarea']=0\n",
    "df.loc[df['furnishingstatus']=='furnished','furnishingstatus']=2\n",
    "df.loc[df['furnishingstatus']=='semi-furnished','furnishingstatus']=1\n",
    "df.loc[df['furnishingstatus']=='unfurnished','furnishingstatus']=0\n"
   ]
  },
  {
   "cell_type": "code",
   "execution_count": 76,
   "id": "b2d6f0c0",
   "metadata": {},
   "outputs": [],
   "source": [
    "#Normalise the Data. \n",
    "#Normalise the continuous features.\n",
    "def normalise_columns(df, columns):    \n",
    "    df_copy = df.copy()\n",
    "    for col in columns:\n",
    "        min_val = df_copy[col].min()\n",
    "        max_val = df_copy[col].max()\n",
    "        if min_val!=max_val:\n",
    "            df_copy[col] = (df_copy[col] - min_val) /(max_val-min_val)\n",
    "    return df_copy"
   ]
  },
  {
   "cell_type": "code",
   "execution_count": 77,
   "id": "636e2eac",
   "metadata": {},
   "outputs": [],
   "source": [
    "def standardise_columns(df, columns):    \n",
    "    df_copy = df.copy()\n",
    "    for col in columns:\n",
    "        mean = df_copy[col].mean()\n",
    "        std = df_copy[col].std()\n",
    "        if std!=0:\n",
    "            df_copy[col] = (df_copy[col] - mean) /(std)\n",
    "    return df_copy"
   ]
  },
  {
   "cell_type": "code",
   "execution_count": 78,
   "id": "16ed0dec",
   "metadata": {},
   "outputs": [],
   "source": [
    "#Normalise the Data\n",
    "df=normalise_columns(df,['price','area'])\n",
    "# df=standardise_columns(df,['price','area'])"
   ]
  },
  {
   "cell_type": "code",
   "execution_count": 79,
   "id": "31400e1b",
   "metadata": {},
   "outputs": [
    {
     "data": {
      "text/html": [
       "<div>\n",
       "<style scoped>\n",
       "    .dataframe tbody tr th:only-of-type {\n",
       "        vertical-align: middle;\n",
       "    }\n",
       "\n",
       "    .dataframe tbody tr th {\n",
       "        vertical-align: top;\n",
       "    }\n",
       "\n",
       "    .dataframe thead th {\n",
       "        text-align: right;\n",
       "    }\n",
       "</style>\n",
       "<table border=\"1\" class=\"dataframe\">\n",
       "  <thead>\n",
       "    <tr style=\"text-align: right;\">\n",
       "      <th></th>\n",
       "      <th>price</th>\n",
       "      <th>area</th>\n",
       "      <th>bedrooms</th>\n",
       "      <th>bathrooms</th>\n",
       "      <th>stories</th>\n",
       "      <th>parking</th>\n",
       "    </tr>\n",
       "  </thead>\n",
       "  <tbody>\n",
       "    <tr>\n",
       "      <th>count</th>\n",
       "      <td>545.000000</td>\n",
       "      <td>545.000000</td>\n",
       "      <td>545.000000</td>\n",
       "      <td>545.000000</td>\n",
       "      <td>545.000000</td>\n",
       "      <td>545.000000</td>\n",
       "    </tr>\n",
       "    <tr>\n",
       "      <th>mean</th>\n",
       "      <td>0.261189</td>\n",
       "      <td>0.240587</td>\n",
       "      <td>2.965138</td>\n",
       "      <td>1.286239</td>\n",
       "      <td>1.805505</td>\n",
       "      <td>0.693578</td>\n",
       "    </tr>\n",
       "    <tr>\n",
       "      <th>std</th>\n",
       "      <td>0.161943</td>\n",
       "      <td>0.149151</td>\n",
       "      <td>0.738064</td>\n",
       "      <td>0.502470</td>\n",
       "      <td>0.867492</td>\n",
       "      <td>0.861586</td>\n",
       "    </tr>\n",
       "    <tr>\n",
       "      <th>min</th>\n",
       "      <td>0.000000</td>\n",
       "      <td>0.000000</td>\n",
       "      <td>1.000000</td>\n",
       "      <td>1.000000</td>\n",
       "      <td>1.000000</td>\n",
       "      <td>0.000000</td>\n",
       "    </tr>\n",
       "    <tr>\n",
       "      <th>25%</th>\n",
       "      <td>0.145455</td>\n",
       "      <td>0.134021</td>\n",
       "      <td>2.000000</td>\n",
       "      <td>1.000000</td>\n",
       "      <td>1.000000</td>\n",
       "      <td>0.000000</td>\n",
       "    </tr>\n",
       "    <tr>\n",
       "      <th>50%</th>\n",
       "      <td>0.224242</td>\n",
       "      <td>0.202749</td>\n",
       "      <td>3.000000</td>\n",
       "      <td>1.000000</td>\n",
       "      <td>2.000000</td>\n",
       "      <td>0.000000</td>\n",
       "    </tr>\n",
       "    <tr>\n",
       "      <th>75%</th>\n",
       "      <td>0.345455</td>\n",
       "      <td>0.323711</td>\n",
       "      <td>3.000000</td>\n",
       "      <td>2.000000</td>\n",
       "      <td>2.000000</td>\n",
       "      <td>1.000000</td>\n",
       "    </tr>\n",
       "    <tr>\n",
       "      <th>max</th>\n",
       "      <td>1.000000</td>\n",
       "      <td>1.000000</td>\n",
       "      <td>6.000000</td>\n",
       "      <td>4.000000</td>\n",
       "      <td>4.000000</td>\n",
       "      <td>3.000000</td>\n",
       "    </tr>\n",
       "  </tbody>\n",
       "</table>\n",
       "</div>"
      ],
      "text/plain": [
       "            price        area    bedrooms   bathrooms     stories     parking\n",
       "count  545.000000  545.000000  545.000000  545.000000  545.000000  545.000000\n",
       "mean     0.261189    0.240587    2.965138    1.286239    1.805505    0.693578\n",
       "std      0.161943    0.149151    0.738064    0.502470    0.867492    0.861586\n",
       "min      0.000000    0.000000    1.000000    1.000000    1.000000    0.000000\n",
       "25%      0.145455    0.134021    2.000000    1.000000    1.000000    0.000000\n",
       "50%      0.224242    0.202749    3.000000    1.000000    2.000000    0.000000\n",
       "75%      0.345455    0.323711    3.000000    2.000000    2.000000    1.000000\n",
       "max      1.000000    1.000000    6.000000    4.000000    4.000000    3.000000"
      ]
     },
     "execution_count": 79,
     "metadata": {},
     "output_type": "execute_result"
    }
   ],
   "source": [
    "df.describe()"
   ]
  },
  {
   "cell_type": "code",
   "execution_count": 80,
   "id": "52c8cb8d",
   "metadata": {},
   "outputs": [],
   "source": [
    "y=np.array(df['price'])\n",
    "x=np.array(df.drop('price',axis=1))\n"
   ]
  },
  {
   "cell_type": "code",
   "execution_count": 81,
   "id": "52e2f16b",
   "metadata": {},
   "outputs": [],
   "source": [
    "#Make the X as coloumn Matrix\n",
    "x=x.T"
   ]
  },
  {
   "cell_type": "code",
   "execution_count": 82,
   "id": "79351948",
   "metadata": {},
   "outputs": [],
   "source": [
    "#Add the Bias Parameter as the first row\n",
    "x=np.insert(x,0,np.ones(x.shape[1]),axis=0)"
   ]
  },
  {
   "cell_type": "code",
   "execution_count": 83,
   "id": "e780bb70",
   "metadata": {},
   "outputs": [],
   "source": [
    "#Loss Function\n",
    "def J(x,y,w,n=1):\n",
    "  y_pred=w.T@x\n",
    "  loss=0.5*(np.sum((y-y_pred)**2))*(1/n)\n",
    "  return loss"
   ]
  },
  {
   "cell_type": "code",
   "execution_count": null,
   "id": "f4ecf2f1",
   "metadata": {},
   "outputs": [],
   "source": [
    "#Absolute Error"
   ]
  },
  {
   "cell_type": "code",
   "execution_count": 84,
   "id": "68bfddbf",
   "metadata": {},
   "outputs": [],
   "source": [
    "#Online Gradient Descent Function\n",
    "def online_gradient(x,y,w,lr=0.01):\n",
    "  y_pred=np.dot(w,x)\n",
    "  grad=-(y-y_pred)\n",
    "  w=w-lr*(grad*x)\n",
    "  return w\n",
    "\n"
   ]
  },
  {
   "cell_type": "code",
   "execution_count": 89,
   "id": "279ccb39",
   "metadata": {},
   "outputs": [],
   "source": [
    "#Initialise the Weights for Online Gradient Descent\n",
    "w=[]\n",
    "lr=[]\n",
    "i=0.001\n",
    "for _ in range(3):\n",
    "  w.append(np.zeros(x.shape[0]))\n",
    "  lr.append(i)\n",
    "  i=i/10"
   ]
  },
  {
   "cell_type": "code",
   "execution_count": 90,
   "id": "642d1cb6",
   "metadata": {},
   "outputs": [
    {
     "data": {
      "image/png": "[encoded data removed]",
      "text/plain": [
       "<Figure size 640x480 with 1 Axes>"
      ]
     },
     "metadata": {},
     "output_type": "display_data"
    }
   ],
   "source": [
    "min_loss=1e100\n",
    "for i in range(len(w)):\n",
    "  loss_vals=[]\n",
    "  for _ in range(len(y)):\n",
    "    w[i]=online_gradient(x[:,_],y[_],w[i],lr[i])\n",
    "    loss=J(x,y,w[i])\n",
    "    loss_vals.append(loss)\n",
    "  # print(w[i])\n",
    "  min_loss=min(min_loss,loss_vals[-1])\n",
    "  plt.plot(loss_vals,label=f'LR={lr[i]}')\n",
    "plt.scatter(len(y),min_loss,label=f\"Minimum Loss:{min_loss}\")\n",
    "plt.legend()\n",
    "plt.show()"
   ]
  },
  {
   "cell_type": "code",
   "execution_count": 88,
   "id": "d1cd1cdb",
   "metadata": {},
   "outputs": [
    {
     "data": {
      "image/png": "[encoded data removed]",
      "text/plain": [
       "<Figure size 640x480 with 1 Axes>"
      ]
     },
     "metadata": {},
     "output_type": "display_data"
    },
    {
     "name": "stdout",
     "output_type": "stream",
     "text": [
      "0.004215844373562446\n"
     ]
    }
   ],
   "source": [
    "#Batch Gradient Descent\n",
    "weights=np.zeros(x.shape[0])\n",
    "lr=0.01\n",
    "loss_vals=[]\n",
    "n=len(y)\n",
    "epochs=10000\n",
    "for _ in range(epochs):\n",
    "  y_pred=weights.T@x\n",
    "  grad=-(x@(y-y_pred).T)*(1/n)\n",
    "  weights=weights-lr*grad\n",
    "  loss_vals.append(J(x,y,weights,n))\n",
    "plt.plot(loss_vals)\n",
    "plt.scatter(epochs-1,loss_vals[-1],label=f\"Minimum Loss ={loss_vals[-1]}\")\n",
    "plt.legend()\n",
    "plt.show()\n",
    "print(loss_vals[-1])"
   ]
  },
  {
   "cell_type": "code",
   "execution_count": null,
   "id": "387a9e1c",
   "metadata": {},
   "outputs": [],
   "source": []
  }
 ],
 "metadata": {
  "kernelspec": {
   "display_name": "base",
   "language": "python",
   "name": "python3"
  },
  "language_info": {
   "codemirror_mode": {
    "name": "ipython",
    "version": 3
   },
   "file_extension": ".py",
   "mimetype": "text/x-python",
   "name": "python",
   "nbconvert_exporter": "python",
   "pygments_lexer": "ipython3",
   "version": "3.12.7"
  }
 },
 "nbformat": 4,
 "nbformat_minor": 5
}
